{
  "nbformat": 4,
  "nbformat_minor": 0,
  "metadata": {
    "colab": {
      "provenance": []
    },
    "kernelspec": {
      "name": "python3",
      "display_name": "Python 3"
    },
    "language_info": {
      "name": "python"
    }
  },
  "cells": [
    {
      "cell_type": "markdown",
      "source": [
        "# Operators in Python\n",
        "\n",
        "- Arithmetic Operators\n",
        "- Comparison Operators\n",
        "- Logical Operators\n",
        "- Bitwise Operators\n",
        "- Assignment Operators\n",
        "- Membership Operators\n"
      ],
      "metadata": {
        "id": "y5QI0XeHiRZ_"
      }
    },
    {
      "cell_type": "code",
      "source": [
        "# Aritmetic Operators\n",
        "\n",
        "## Adition\n",
        "print(3+5)\n",
        "\n",
        "## Subtraction\n",
        "print(25-8)\n",
        "\n",
        "## Multiplication\n",
        "print(3*5)\n",
        "\n",
        "## Division\n",
        "print(5/2)\n",
        "\n",
        "## Floor Division\n",
        "print(5//2)\n",
        "\n",
        "## Modulus\n",
        "print(5%2)\n",
        "\n",
        "## Exponentiation\n",
        "print(5**2)"
      ],
      "metadata": {
        "colab": {
          "base_uri": "https://localhost:8080/"
        },
        "id": "ojDSmVAsiSCg",
        "outputId": "8bea2f87-dd50-4076-98c3-1e8a03ac8426"
      },
      "execution_count": 1,
      "outputs": [
        {
          "output_type": "stream",
          "name": "stdout",
          "text": [
            "8\n",
            "17\n",
            "15\n",
            "2.5\n",
            "2\n",
            "1\n",
            "25\n"
          ]
        }
      ]
    },
    {
      "cell_type": "code",
      "source": [
        "# Comparison Operators\n",
        "\n",
        "## Greater than\n",
        "print(4>5)\n",
        "\n",
        "## Less than\n",
        "print(4<5)\n",
        "\n",
        "## Greater than and equal to\n",
        "print(4>=4)\n",
        "\n",
        "## Less than and equal to\n",
        "print(4<=4)\n",
        "\n",
        "## Equal\n",
        "print(4==4)\n",
        "\n",
        "# Not equal to\n",
        "print(4!=4)"
      ],
      "metadata": {
        "colab": {
          "base_uri": "https://localhost:8080/"
        },
        "id": "vENwM2rZkKXB",
        "outputId": "7510822f-d67b-4c86-efd9-5626b9634481"
      },
      "execution_count": 2,
      "outputs": [
        {
          "output_type": "stream",
          "name": "stdout",
          "text": [
            "False\n",
            "True\n",
            "True\n",
            "True\n",
            "True\n",
            "False\n"
          ]
        }
      ]
    },
    {
      "cell_type": "code",
      "source": [
        "# Logical Operators\n",
        "## and \tReturns True if both statements are true\n",
        "print(1 and 0)\n",
        "\n",
        "## or\tReturns True if one of the statements is true\n",
        "print(1 or 0)\n",
        "\n",
        "## not\tReverse the result, returns False if the result is true\n",
        "print(not 1)"
      ],
      "metadata": {
        "colab": {
          "base_uri": "https://localhost:8080/"
        },
        "id": "KFjZLSfIkugz",
        "outputId": "f30b3f7e-74d9-4098-b506-fbe9f3e482e2"
      },
      "execution_count": 4,
      "outputs": [
        {
          "output_type": "stream",
          "name": "stdout",
          "text": [
            "0\n",
            "1\n",
            "False\n"
          ]
        }
      ]
    },
    {
      "cell_type": "code",
      "source": [
        "# Bitwise Operators\n",
        "\n",
        "# Decimal numbers and their binary values:\n",
        "# 0 = 0000000000000000\n",
        "# 1 = 0000000000000001\n",
        "# 2 = 0000000000000010\n",
        "# 3 = 0000000000000011\n",
        "# 4 = 0000000000000100\n",
        "# 5 = 0000000000000101\n",
        "# 6 = 0000000000000110\n",
        "# 7 = 0000000000000111\n",
        "\n",
        "## AND:\tSets each bit to 1 if both bits are 1\n",
        "print(6 & 3)\n",
        "\n",
        "## OR: Sets each bit to 1 if one of two bits is 1\n",
        "print(6 | 3)\n",
        "\n",
        "## XOR:\tSets each bit to 1 if only one of two bits is 1\n",
        "print(6 ^ 3)\n",
        "\n",
        "## NOT:\tInverts all the bits\n",
        "print(~ 3)\n",
        "\n",
        "## Zero fill left shift:\tShift left by pushing zeros in from the right and let the leftmost bits fall off\n",
        "print(3 << 2)\n",
        "\n",
        "## \tSigned right shift\tShift right by pushing copies of the leftmost bit in from the left, and let the rightmost bits fall off\n",
        "print(3 >> 2)"
      ],
      "metadata": {
        "colab": {
          "base_uri": "https://localhost:8080/"
        },
        "id": "tpew7-QFmbaT",
        "outputId": "ca1b1f79-d848-4406-f06f-c22dfc7e2008"
      },
      "execution_count": 14,
      "outputs": [
        {
          "output_type": "stream",
          "name": "stdout",
          "text": [
            "2\n",
            "7\n",
            "5\n",
            "-4\n",
            "12\n",
            "0\n"
          ]
        }
      ]
    },
    {
      "cell_type": "code",
      "source": [
        "## Assignment Operators\n",
        "\n",
        "x = 5\n",
        "\n",
        "## x = x+3\n",
        "x += 3\n",
        "\n",
        "print(x)"
      ],
      "metadata": {
        "colab": {
          "base_uri": "https://localhost:8080/"
        },
        "id": "paHfz8vdncGA",
        "outputId": "12bd1764-cb82-48ae-b16d-79a3c9e0f9ed"
      },
      "execution_count": 16,
      "outputs": [
        {
          "output_type": "stream",
          "name": "stdout",
          "text": [
            "8\n"
          ]
        }
      ]
    },
    {
      "cell_type": "code",
      "source": [
        "# Membership Operators\n",
        "\n",
        "## not in: Returns True if a sequence with the specified value is not present in the object\n",
        "print('A' not in 'Australia')\n",
        "\n",
        "## in: Returns True if a sequence with the specified value is present in the object\n",
        "print(1 in [2,3,4,5,6])"
      ],
      "metadata": {
        "colab": {
          "base_uri": "https://localhost:8080/"
        },
        "id": "2kHaaLB1pDjt",
        "outputId": "e5505ce4-7ed1-4a30-d0b8-4ce7e3467f76"
      },
      "execution_count": 18,
      "outputs": [
        {
          "output_type": "stream",
          "name": "stdout",
          "text": [
            "False\n",
            "False\n"
          ]
        }
      ]
    },
    {
      "cell_type": "code",
      "source": [
        "# Challenge: Find the sum of a 3 digit number entered by the user\n",
        "\n",
        "number = int(input('Enter a 3 digit number: '))\n",
        "\n",
        "# 345%10 -> 5\n",
        "a = number%10\n",
        "\n",
        "number=number//10\n",
        "\n",
        "# 345%10 -> 4\n",
        "b = number%10\n",
        "\n",
        "number=number//10\n",
        "\n",
        "# 345%10 -> 3\n",
        "c = number%10\n",
        "\n",
        "print(a + b + c)"
      ],
      "metadata": {
        "colab": {
          "base_uri": "https://localhost:8080/"
        },
        "id": "-kybsIdwqkhK",
        "outputId": "36c96c6b-b582-461f-86d0-ed7ddae519ac"
      },
      "execution_count": 24,
      "outputs": [
        {
          "output_type": "stream",
          "name": "stdout",
          "text": [
            "Enter a 3 digit number: 345\n",
            "12\n"
          ]
        }
      ]
    },
    {
      "cell_type": "code",
      "source": [],
      "metadata": {
        "id": "8MhzORUvryf6"
      },
      "execution_count": null,
      "outputs": []
    }
  ]
}