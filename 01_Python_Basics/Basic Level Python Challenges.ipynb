{
  "nbformat": 4,
  "nbformat_minor": 0,
  "metadata": {
    "colab": {
      "provenance": []
    },
    "kernelspec": {
      "name": "python3",
      "display_name": "Python 3"
    },
    "language_info": {
      "name": "python"
    }
  },
  "cells": [
    {
      "cell_type": "markdown",
      "source": [
        "# Python Basic Challenges\n"
      ],
      "metadata": {
        "id": "A05OG15VqOPF"
      }
    },
    {
      "cell_type": "markdown",
      "source": [
        "### Write a program that will convert celsius value to fahrenheit."
      ],
      "metadata": {
        "id": "1KUpN7ZTrC3_"
      }
    },
    {
      "cell_type": "code",
      "source": [
        "# Enter the temperature in celsuis\n",
        "celsius_value = int(input(\"Enter the celsius degree temperature: \"))\n",
        "\n",
        "# converting celsius degree temperature to Fahrenheit\n",
        "fahrenheit_value = celsius_value*1.8+32\n",
        "\n",
        "# print results\n",
        "print(\"The Fahrenheit equivalent of\", celsius_value, \"celsius = \", fahrenheit_value)"
      ],
      "metadata": {
        "id": "yxKYhYQiqWfj",
        "colab": {
          "base_uri": "https://localhost:8080/"
        },
        "outputId": "04ef2be7-8893-48f6-ae3e-3e1857887777"
      },
      "execution_count": 2,
      "outputs": [
        {
          "output_type": "stream",
          "name": "stdout",
          "text": [
            "Enter the celsius degree temperature: 47\n",
            "The Fahrenheit equivalent of 47 celsius =  116.60000000000001\n"
          ]
        }
      ]
    },
    {
      "cell_type": "markdown",
      "source": [
        "### Take 2 numbers as input from the user.Write a program to swap the numbers without using any special python syntax."
      ],
      "metadata": {
        "id": "RLrOBBJurLB2"
      }
    },
    {
      "cell_type": "code",
      "source": [
        "# Take 2 numbers from user\n",
        "fnum = int(input(\"Enter the first number: \"))\n",
        "snum = int(input(\"Enter the second number: \"))\n",
        "\n",
        "# Create a temporary variable to store the value of first number and swap the numbers\n",
        "a = fnum\n",
        "fnum = snum\n",
        "snum = a\n",
        "\n",
        "print(\"The value of first number after swapping it with second number:\", fnum)\n",
        "print(\"The value of second number after swapping it with first number:\", snum)"
      ],
      "metadata": {
        "id": "yPn7if0TrJ4F",
        "colab": {
          "base_uri": "https://localhost:8080/"
        },
        "outputId": "4009232d-e725-4900-f9ac-ecfceccf9c8c"
      },
      "execution_count": 7,
      "outputs": [
        {
          "output_type": "stream",
          "name": "stdout",
          "text": [
            "Enter the first number: 43\n",
            "Enter the second number: 34\n",
            "The value of first number after swapping it with second number: 34\n",
            "The value of second number after swapping it with first number: 43\n"
          ]
        }
      ]
    },
    {
      "cell_type": "markdown",
      "source": [
        "### Write a program to find the euclidean distance between two coordinates.Take both the coordinates from the user as input."
      ],
      "metadata": {
        "id": "waLCP1bjr7ML"
      }
    },
    {
      "cell_type": "code",
      "source": [
        "# Points for co-ordinate X\n",
        "x1 = int(input(\"Enter the first point of the coordinate X: \"))\n",
        "x2 = int(input(\"Enter the second point of the coordinate X: \"))\n",
        "\n",
        "# Points for co-ordinate Y\n",
        "y1 = int(input(\"Enter the first point of the coordinate Y: \"))\n",
        "y2 = int(input(\"Enter the second point of the coordinate Y: \"))\n",
        "\n",
        "# Euclidean distance formula\n",
        "e_dist = ((x2-x1)**2 + (y2-y1)**2)**(1/2)\n",
        "\n",
        "# Print result\n",
        "print(\"The euclidean distance between two coordinates is: \", round(e_dist,2))"
      ],
      "metadata": {
        "id": "Pl1Sv-xnrxnH",
        "colab": {
          "base_uri": "https://localhost:8080/"
        },
        "outputId": "fc2fbbf6-246e-44a8-e7f6-7d812f6eaa93"
      },
      "execution_count": 13,
      "outputs": [
        {
          "output_type": "stream",
          "name": "stdout",
          "text": [
            "Enter the first point of the coordinate X: 5\n",
            "Enter the second point of the coordinate X: 10\n",
            "Enter the first point of the coordinate Y: 20\n",
            "Enter the second point of the coordinate Y: 35\n",
            "The euclidean distance between two coordinates is:  15.81\n"
          ]
        }
      ]
    },
    {
      "cell_type": "markdown",
      "source": [
        "### Write a program to find the simple interest when the value of principle,rate of interest and time period is provided by the user.\n"
      ],
      "metadata": {
        "id": "VLrhg-FRsHjR"
      }
    },
    {
      "cell_type": "code",
      "source": [
        "# User input\n",
        "principal_amt = int(input(\"Enter the principal amount: \"))\n",
        "roi = int(input(\"Enter the rate of interest: \"))\n",
        "time_period = int(input(\"Enter the time period (in years): \"))\n",
        "\n",
        "# Simple interest\n",
        "si = (principal_amt*roi*time_period)/100\n",
        "\n",
        "print(\"The simple interest is: \", round(si,2))"
      ],
      "metadata": {
        "id": "s40DlReZsTmY",
        "colab": {
          "base_uri": "https://localhost:8080/"
        },
        "outputId": "e1344f9f-04aa-4e5a-d528-af52adb45942"
      },
      "execution_count": 10,
      "outputs": [
        {
          "output_type": "stream",
          "name": "stdout",
          "text": [
            "Enter the principal amount: 50000\n",
            "Enter the rate of interest: 4\n",
            "Enter the time period (in years): 2\n",
            "The simple interest is:  4000.0\n"
          ]
        }
      ]
    },
    {
      "cell_type": "markdown",
      "source": [
        "### Write a program to find the sum of squares of first n natural numbers where n will be provided by the user."
      ],
      "metadata": {
        "id": "gJ7C5kZYt4BP"
      }
    },
    {
      "cell_type": "code",
      "source": [
        "n = int(input(\"Enter the number to get sum of sqaures of first n natural numbers: \"))\n",
        "\n",
        "ss_numbers = n*(n+1)*(2*n+1)/6\n",
        "\n",
        "print(\"Sum of squares of first\", n, \"natural numbers is\", ss_numbers)"
      ],
      "metadata": {
        "id": "_tHsmEHzt2nX",
        "colab": {
          "base_uri": "https://localhost:8080/"
        },
        "outputId": "b07dc79a-031d-4de0-b1c3-a5d88467c0e3"
      },
      "execution_count": 17,
      "outputs": [
        {
          "output_type": "stream",
          "name": "stdout",
          "text": [
            "Enter the number to get sum of sqaures of first n natural numbers: 3\n",
            "Sum of squares of first 3 natural numbers is 14.0\n"
          ]
        }
      ]
    },
    {
      "cell_type": "markdown",
      "source": [
        "### Given the first 2 terms of an Arithmetic Series.Find the Nth term of the series. Assume all inputs are provided by the user."
      ],
      "metadata": {
        "id": "FHrMM7g-yG1h"
      }
    },
    {
      "cell_type": "code",
      "source": [
        "n1 = int(input(\"Enter the first term: \"))\n",
        "n2 = int(input(\"Enter the second term: \"))\n",
        "n = int(input(\"Enter the number of terms: \"))\n",
        "\n",
        "d = n2-n1\n",
        "\n",
        "arithmetic_series = n1 + (n - 1)*d\n",
        "\n",
        "print(\"The\",  n, \"th term of the arithmetic series is: \", arithmetic_series)"
      ],
      "metadata": {
        "id": "go4_kmZmyVSx",
        "colab": {
          "base_uri": "https://localhost:8080/"
        },
        "outputId": "0ff82564-a7fd-4a7b-ca4a-37d866b2691a"
      },
      "execution_count": 18,
      "outputs": [
        {
          "output_type": "stream",
          "name": "stdout",
          "text": [
            "Enter the first term: 4\n",
            "Enter the second term: 8\n",
            "Enter the number of terms: 34\n",
            "The 34 th term of the arithmetic series is:  136\n"
          ]
        }
      ]
    },
    {
      "cell_type": "markdown",
      "source": [
        "### Given 2 fractions, find the sum of those 2 fractions.Take the numerator and denominator values of the fractions from the user."
      ],
      "metadata": {
        "id": "QgyRX_es1oum"
      }
    },
    {
      "cell_type": "code",
      "source": [
        "n1 = int(input(\"Enter the numerator value for first fraction: \"))\n",
        "d1 = int(input(\"Enter the denominator value for first fraction: \"))\n",
        "\n",
        "n2 = int(input(\"Enter the numerator value for second fraction: \"))\n",
        "d2 = int(input(\"Enter the denominator value for second fraction: \"))\n",
        "\n",
        "num_value = n1*d2 + n2*d1\n",
        "den_value = d1*d2\n",
        "\n",
        "print(\"The sum of\",'{}/{}'.format(n1, d1), \"and\", '{}/{}'.format(n2, d2),\"is\",'{}/{}'.format(num_value, den_value))"
      ],
      "metadata": {
        "id": "X05xqFS1yW16",
        "colab": {
          "base_uri": "https://localhost:8080/"
        },
        "outputId": "1751afb3-177f-4a5c-be0b-75a757557c3f"
      },
      "execution_count": 20,
      "outputs": [
        {
          "output_type": "stream",
          "name": "stdout",
          "text": [
            "Enter the numerator value for first fraction: 3\n",
            "Enter the denominator value for first fraction: 5\n",
            "Enter the numerator value for second fraction: 4\n",
            "Enter the denominator value for second fraction: 7\n",
            "The sum of 3/5 and 4/7 is 41/35\n"
          ]
        }
      ]
    },
    {
      "cell_type": "markdown",
      "source": [
        "### Given the height, width and breadth of a milk tank, you have to find out how many glasses of milk can be obtained? Assume all the inputs are provided by the user.\n",
        "\n",
        "\n",
        "\n",
        "Input:<br>\n",
        "Dimensions of the milk tank<br>\n",
        "H = 20cm, L = 20cm, B = 20cm\n",
        "<br><br>\n",
        "Dimensions of the glass<br>\n",
        "h = 3cm, r = 1cm"
      ],
      "metadata": {
        "id": "eaql38ln13u7"
      }
    },
    {
      "cell_type": "code",
      "source": [
        "# Dimensions of the milk tank\n",
        "height_mt = float(input(\"Enter the height of milk tank: \"))\n",
        "len_mt = float(input(\"Enter the length of milk tank: \"))\n",
        "breath_mt = float(input(\"Enter the breath of milk tank: \"))\n",
        "\n",
        "# Dimension of glass\n",
        "height_glass = float(input(\"Enter the height of the glass: \"))\n",
        "radius_glass =  float(input(\"Enter the radius of the glass: \"))\n",
        "\n",
        "# Volume of milk tank\n",
        "volume_mt = height_mt*len_mt*breath_mt\n",
        "\n",
        "# Volume of glass\n",
        "vol_glass = 3.14*height_glass*radius_glass*radius_glass\n",
        "\n",
        "import math\n",
        "number_of_glass = math.floor(volume_mt/vol_glass)\n",
        "print(\"The total number of milk glasses can be obtained are: \", number_of_glass)"
      ],
      "metadata": {
        "id": "FePZqno74eWv",
        "colab": {
          "base_uri": "https://localhost:8080/"
        },
        "outputId": "035fcc4e-92a6-43b6-8b01-96a2dde40479"
      },
      "execution_count": 25,
      "outputs": [
        {
          "output_type": "stream",
          "name": "stdout",
          "text": [
            "Enter the height of milk tank: 15\n",
            "Enter the length of milk tank: 7\n",
            "Enter the breath of milk tank: 2\n",
            "Enter the height of the glass: 4\n",
            "Enter the radius of the glass: 2\n",
            "The total number of milk glasses can be obtained are:  4\n"
          ]
        }
      ]
    }
  ]
}