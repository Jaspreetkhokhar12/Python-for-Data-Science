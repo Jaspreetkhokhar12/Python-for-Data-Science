{
  "nbformat": 4,
  "nbformat_minor": 0,
  "metadata": {
    "colab": {
      "provenance": []
    },
    "kernelspec": {
      "name": "python3",
      "display_name": "Python 3"
    },
    "language_info": {
      "name": "python"
    }
  },
  "cells": [
    {
      "cell_type": "markdown",
      "source": [
        "## **1. print() Function**\n",
        "\n",
        "Python print() function prints the message to the screen"
      ],
      "metadata": {
        "id": "x-MdLOVI7BSZ"
      }
    },
    {
      "cell_type": "code",
      "execution_count": 1,
      "metadata": {
        "colab": {
          "base_uri": "https://localhost:8080/"
        },
        "id": "kR4jOI6_6xMl",
        "outputId": "9302eb00-ec4b-401c-9764-4d6158b2e0dc"
      },
      "outputs": [
        {
          "output_type": "stream",
          "name": "stdout",
          "text": [
            "Hello World!\n"
          ]
        }
      ],
      "source": [
        "# Print a text\n",
        "print(\"Hello World!\")"
      ]
    },
    {
      "cell_type": "code",
      "source": [
        "# Print two messages, and specify the separator:\n",
        "print(\"Hello\", \"how are you?\", sep=\" --- \")"
      ],
      "metadata": {
        "id": "Tu1nOXCO7Jdb",
        "colab": {
          "base_uri": "https://localhost:8080/"
        },
        "outputId": "49d74c76-a6fc-4090-ff35-c772bad01cf4"
      },
      "execution_count": 2,
      "outputs": [
        {
          "output_type": "stream",
          "name": "stdout",
          "text": [
            "Hello --- how are you?\n"
          ]
        }
      ]
    },
    {
      "cell_type": "code",
      "source": [
        "# This print() function ends with \"-\" as set in the end argument.\n",
        "print (\"Hello\", end= \"-\")\n",
        "print(\"World\")"
      ],
      "metadata": {
        "colab": {
          "base_uri": "https://localhost:8080/"
        },
        "id": "g3CRqkxl8p4T",
        "outputId": "af220bc8-5c11-46e9-e88d-e14507c5d694"
      },
      "execution_count": 3,
      "outputs": [
        {
          "output_type": "stream",
          "name": "stdout",
          "text": [
            "Hello-World\n"
          ]
        }
      ]
    },
    {
      "cell_type": "markdown",
      "source": [
        "## **2. Variables**\n",
        "\n",
        "Variables are containers for storing data values. It is created the moment you first assign a value to it."
      ],
      "metadata": {
        "id": "5hMEIK3zFx2f"
      }
    },
    {
      "cell_type": "code",
      "source": [
        "# Creating variables\n",
        "\n",
        "x = \"Australia\"\n",
        "print(x)"
      ],
      "metadata": {
        "colab": {
          "base_uri": "https://localhost:8080/"
        },
        "id": "BXpKLNs2F3A-",
        "outputId": "abb25822-251f-4e77-cdfb-ba7a9e5dfd5d"
      },
      "execution_count": 4,
      "outputs": [
        {
          "output_type": "stream",
          "name": "stdout",
          "text": [
            "Australia\n"
          ]
        }
      ]
    },
    {
      "cell_type": "code",
      "source": [
        "# CASTING VARIABLE: When we want to specify the data type of a variable.\n",
        "\n",
        "x = str(45)\n",
        "y = float(45)\n",
        "z = int(45)\n",
        "\n",
        "print(x, y, z)"
      ],
      "metadata": {
        "colab": {
          "base_uri": "https://localhost:8080/"
        },
        "id": "Q2kMR_1-F49s",
        "outputId": "76398893-1590-4906-ee77-f21955fa3a4f"
      },
      "execution_count": 5,
      "outputs": [
        {
          "output_type": "stream",
          "name": "stdout",
          "text": [
            "45 45.0 45\n"
          ]
        }
      ]
    },
    {
      "cell_type": "code",
      "source": [
        "# Get the data type of a variable with the type() function.\n",
        "\n",
        "x = 'Jake'\n",
        "print(type(x))"
      ],
      "metadata": {
        "colab": {
          "base_uri": "https://localhost:8080/"
        },
        "id": "PhPz5ApkF7P6",
        "outputId": "41c11ad8-9c5f-406b-d3a9-d2d23bfa8364"
      },
      "execution_count": 6,
      "outputs": [
        {
          "output_type": "stream",
          "name": "stdout",
          "text": [
            "<class 'str'>\n"
          ]
        }
      ]
    },
    {
      "cell_type": "code",
      "source": [
        "# Assign values to multiple variables in one line\n",
        "x, y, z = \"Apple\", \"Banana\", \"Orange\"\n",
        "print(x,y,z)"
      ],
      "metadata": {
        "colab": {
          "base_uri": "https://localhost:8080/"
        },
        "id": "sJtAF_3YGHnL",
        "outputId": "26b1a574-c0ae-451d-b905-0bd643f26eb8"
      },
      "execution_count": 7,
      "outputs": [
        {
          "output_type": "stream",
          "name": "stdout",
          "text": [
            "Apple Banana Orange\n"
          ]
        }
      ]
    },
    {
      "cell_type": "code",
      "source": [
        "x = 5\n",
        "y = 10\n",
        "\n",
        "# + works as a mathematical operator:\n",
        "print(x + y)"
      ],
      "metadata": {
        "colab": {
          "base_uri": "https://localhost:8080/"
        },
        "id": "URkqhwAoGWP6",
        "outputId": "177a3322-8d9a-4900-c87b-de641b749e77"
      },
      "execution_count": 8,
      "outputs": [
        {
          "output_type": "stream",
          "name": "stdout",
          "text": [
            "15\n"
          ]
        }
      ]
    },
    {
      "cell_type": "markdown",
      "source": [
        "## **3. Data Types**\n",
        "\n",
        "Variables can store data of different types."
      ],
      "metadata": {
        "id": "onyP9FiC_T95"
      }
    },
    {
      "cell_type": "code",
      "source": [
        "# Print the data type of variable x\n",
        "\n",
        "## String\n",
        "x = \"Hello World\"\n",
        "print(type(x))\n",
        "print(x)"
      ],
      "metadata": {
        "colab": {
          "base_uri": "https://localhost:8080/"
        },
        "id": "YSnP2iv__lxE",
        "outputId": "02b0a948-3d1a-4a2d-9c56-7e3331ebe499"
      },
      "execution_count": 9,
      "outputs": [
        {
          "output_type": "stream",
          "name": "stdout",
          "text": [
            "<class 'str'>\n",
            "Hello World\n"
          ]
        }
      ]
    },
    {
      "cell_type": "code",
      "source": [
        "## Integer\n",
        "x = 20\n",
        "print(type(x))\n",
        "print(x)"
      ],
      "metadata": {
        "colab": {
          "base_uri": "https://localhost:8080/"
        },
        "id": "vs1glc4y_vAM",
        "outputId": "9e515a40-1c89-4ef7-95c6-ffdae6c2354c"
      },
      "execution_count": 10,
      "outputs": [
        {
          "output_type": "stream",
          "name": "stdout",
          "text": [
            "<class 'int'>\n",
            "20\n"
          ]
        }
      ]
    },
    {
      "cell_type": "code",
      "source": [
        "## Float\n",
        "x = 20.5\n",
        "print(type(x))\n",
        "print(x)"
      ],
      "metadata": {
        "colab": {
          "base_uri": "https://localhost:8080/"
        },
        "id": "zT61ZJML_525",
        "outputId": "b6e44ce6-8e3a-4cfd-b6c0-3607138ccc51"
      },
      "execution_count": 11,
      "outputs": [
        {
          "output_type": "stream",
          "name": "stdout",
          "text": [
            "<class 'float'>\n",
            "20.5\n"
          ]
        }
      ]
    },
    {
      "cell_type": "code",
      "source": [
        "## Complex\n",
        "x = 8 + 1j\n",
        "print(type(x))\n",
        "print(x)"
      ],
      "metadata": {
        "colab": {
          "base_uri": "https://localhost:8080/"
        },
        "id": "QIGuht55__-_",
        "outputId": "c7052c40-a56f-4f95-fc53-4f86bc76cc50"
      },
      "execution_count": 12,
      "outputs": [
        {
          "output_type": "stream",
          "name": "stdout",
          "text": [
            "<class 'complex'>\n",
            "(8+1j)\n"
          ]
        }
      ]
    },
    {
      "cell_type": "code",
      "source": [
        "## List\n",
        "x = [\"apple\", \"1\", \"fruit\"]\n",
        "print(type(x))\n",
        "print(x)"
      ],
      "metadata": {
        "colab": {
          "base_uri": "https://localhost:8080/"
        },
        "id": "i2L--BA_AFe0",
        "outputId": "2f50b3d4-64e4-4832-a4fa-611c4ec23cc1"
      },
      "execution_count": 13,
      "outputs": [
        {
          "output_type": "stream",
          "name": "stdout",
          "text": [
            "<class 'list'>\n",
            "['apple', '1', 'fruit']\n"
          ]
        }
      ]
    },
    {
      "cell_type": "code",
      "source": [
        "## Tuple\n",
        "x = (\"apple\", \"1\", \"fruit\")\n",
        "print(type(x))\n",
        "print(x)"
      ],
      "metadata": {
        "colab": {
          "base_uri": "https://localhost:8080/"
        },
        "id": "AWYR_7ygATcy",
        "outputId": "3497c24b-c38c-4d4f-d0f5-024b0c453408"
      },
      "execution_count": 14,
      "outputs": [
        {
          "output_type": "stream",
          "name": "stdout",
          "text": [
            "<class 'tuple'>\n",
            "('apple', '1', 'fruit')\n"
          ]
        }
      ]
    },
    {
      "cell_type": "code",
      "source": [
        "## Set\n",
        "x = {\"apple\", \"1\", \"fruit\"}\n",
        "print(type(x))\n",
        "print(x)"
      ],
      "metadata": {
        "colab": {
          "base_uri": "https://localhost:8080/"
        },
        "id": "GhDUhJ3sAYE3",
        "outputId": "f65adc7f-9c7f-4410-8dfc-1d7572feca5f"
      },
      "execution_count": 15,
      "outputs": [
        {
          "output_type": "stream",
          "name": "stdout",
          "text": [
            "<class 'set'>\n",
            "{'1', 'fruit', 'apple'}\n"
          ]
        }
      ]
    },
    {
      "cell_type": "code",
      "source": [
        "## Dictionary\n",
        "x = {\"Name\": 'Jaspreet', \"Age\": 22}\n",
        "print(type(x))\n",
        "print(x)"
      ],
      "metadata": {
        "colab": {
          "base_uri": "https://localhost:8080/"
        },
        "id": "emuSdq_CAeAz",
        "outputId": "70798aa1-3a38-41fc-e3c8-b96649806369"
      },
      "execution_count": 16,
      "outputs": [
        {
          "output_type": "stream",
          "name": "stdout",
          "text": [
            "<class 'dict'>\n",
            "{'Name': 'Jaspreet', 'Age': 22}\n"
          ]
        }
      ]
    },
    {
      "cell_type": "code",
      "source": [
        "## Range\n",
        "x = range(6)\n",
        "print(type(x))\n",
        "print(x)"
      ],
      "metadata": {
        "colab": {
          "base_uri": "https://localhost:8080/"
        },
        "id": "N8N_ls1JAmN_",
        "outputId": "d95bdf40-4237-4b83-e7f8-df6a96cca7a4"
      },
      "execution_count": 17,
      "outputs": [
        {
          "output_type": "stream",
          "name": "stdout",
          "text": [
            "<class 'range'>\n",
            "range(0, 6)\n"
          ]
        }
      ]
    },
    {
      "cell_type": "markdown",
      "source": [
        "## **4. User Input**\n",
        "\n",
        "We can ask the user for input.\n"
      ],
      "metadata": {
        "id": "BcixlarH4oIP"
      }
    },
    {
      "cell_type": "code",
      "source": [
        "# take the input from the user and store in a variable\n",
        "username = input(\"Enter your name: \")\n",
        "\n",
        "# print result\n",
        "print(username)"
      ],
      "metadata": {
        "colab": {
          "base_uri": "https://localhost:8080/"
        },
        "id": "sCsMa9we5z_p",
        "outputId": "b1cc12da-8e88-4297-bdfc-0efa4ac8b78e"
      },
      "execution_count": 18,
      "outputs": [
        {
          "output_type": "stream",
          "name": "stdout",
          "text": [
            "Enter your name: jaspreet\n",
            "jaspreet\n"
          ]
        }
      ]
    },
    {
      "cell_type": "code",
      "source": [
        "# take the number from the user and store them in a variable\n",
        "\n",
        "fnum = input(\"Enter first number: \")\n",
        "snum = input(\"Enter second number: \")\n",
        "\n",
        "# add the two variables\n",
        "# we change the data type to int as it will take as string by default\n",
        "result = int(fnum) + int(snum)\n",
        "\n",
        "# print the result\n",
        "print(result)"
      ],
      "metadata": {
        "colab": {
          "base_uri": "https://localhost:8080/"
        },
        "id": "ZgwpR5ytGinT",
        "outputId": "cf6ff6a9-75d1-443a-aa82-d8aa31503eea"
      },
      "execution_count": 19,
      "outputs": [
        {
          "output_type": "stream",
          "name": "stdout",
          "text": [
            "Enter first number: 3\n",
            "Enter second number: 45\n",
            "48\n"
          ]
        }
      ]
    }
  ]
}